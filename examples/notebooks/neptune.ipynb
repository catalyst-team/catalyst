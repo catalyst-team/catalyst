{
 "cells": [
  {
   "cell_type": "markdown",
   "metadata": {
    "id": "G4ny3mHCFrqG",
    "tags": [
     "header"
    ]
   },
   "source": [
    "# Neptune + Catalyst\n",
    "([source](https://github.com/neptune-ai/examples/blob/main/integrations-and-supported-tools/catalyst/notebooks/Neptune_Catalyst.ipynb))"
   ]
  },
  {
   "cell_type": "markdown",
   "metadata": {
    "id": "xndcBi_EUFVi",
    "tags": [
     "header",
     "installation"
    ]
   },
   "source": [
    "## Install dependencies"
   ]
  },
  {
   "cell_type": "code",
   "execution_count": null,
   "metadata": {
    "id": "jl90ahSMvhmV",
    "tags": [
     "installation"
    ]
   },
   "outputs": [],
   "source": [
    "! pip install catalyst==21.11 ipywidgets==7.6.3 neptune-client"
   ]
  },
  {
   "cell_type": "markdown",
   "metadata": {
    "id": "1As3OW3LGqKg",
    "tags": [
     "header"
    ]
   },
   "source": [
    "## Import libraries"
   ]
  },
  {
   "cell_type": "code",
   "execution_count": null,
   "metadata": {
    "id": "FufE4GTzvRZG",
    "tags": [
     "code"
    ]
   },
   "outputs": [],
   "source": [
    "import os\n",
    "\n",
    "from collections import OrderedDict\n",
    "from catalyst import dl\n",
    "from catalyst.contrib.datasets import MNIST\n",
    "from torch import nn, optim\n",
    "from torch.utils.data import DataLoader"
   ]
  },
  {
   "cell_type": "markdown",
   "metadata": {
    "colab_type": "text",
    "id": "7LFLtV5R5JKT",
    "tags": [
     "header"
    ]
   },
   "source": [
    "## Prepare hyper-parameters"
   ]
  },
  {
   "cell_type": "code",
   "execution_count": null,
   "metadata": {
    "colab": {
     "base_uri": "https://localhost:8080/",
     "height": 71
    },
    "colab_type": "code",
    "id": "XMdpj-Se4t0U",
    "outputId": "d66a1df2-ed95-4790-c799-fe7f6a980b39",
    "tags": [
     "code"
    ]
   },
   "outputs": [],
   "source": [
    "my_hparams = {\"lr\": 0.07, \"batch_size\": 32}"
   ]
  },
  {
   "cell_type": "markdown",
   "metadata": {
    "tags": [
     "comment"
    ]
   },
   "source": [
    "They will be logged automatically."
   ]
  },
  {
   "cell_type": "markdown",
   "metadata": {
    "id": "XomuTzlsVILc",
    "tags": [
     "header"
    ]
   },
   "source": [
    "## Prepare model, criterion, optimizer and data loaders"
   ]
  },
  {
   "cell_type": "markdown",
   "metadata": {
    "tags": [
     "comment"
    ]
   },
   "source": [
    "Define components needed for the Catalyst Runner."
   ]
  },
  {
   "cell_type": "code",
   "execution_count": null,
   "metadata": {
    "id": "82879lQuVfsJ",
    "tags": [
     "code"
    ]
   },
   "outputs": [],
   "source": [
    "model = nn.Sequential(nn.Flatten(), nn.Linear(28 * 28, 10))\n",
    "criterion = nn.CrossEntropyLoss()\n",
    "optimizer = optim.Adam(model.parameters(), my_hparams[\"lr\"])\n",
    "loaders = OrderedDict(\n",
    "    {\n",
    "        \"training\": DataLoader(\n",
    "            MNIST(os.getcwd(), train=True, download=True),\n",
    "            batch_size=my_hparams[\"batch_size\"],\n",
    "        ),\n",
    "        \"validation\": DataLoader(\n",
    "            MNIST(os.getcwd(), train=False, download=True),\n",
    "            batch_size=my_hparams[\"batch_size\"],\n",
    "        ),\n",
    "    }\n",
    ")"
   ]
  },
  {
   "cell_type": "markdown",
   "metadata": {
    "tags": [
     "comment"
    ]
   },
   "source": [
    "Notice two keys: `\"training\"` and `\"validation\"`. These names are used in Neptune as namespaces to organize your run."
   ]
  },
  {
   "cell_type": "markdown",
   "metadata": {
    "id": "XomuTzlsVILc",
    "tags": [
     "header"
    ]
   },
   "source": [
    "## Create runner"
   ]
  },
  {
   "cell_type": "code",
   "execution_count": null,
   "metadata": {
    "id": "82879lQuVfsJ",
    "tags": [
     "code"
    ]
   },
   "outputs": [],
   "source": [
    "my_runner = dl.SupervisedRunner()"
   ]
  },
  {
   "cell_type": "markdown",
   "metadata": {
    "id": "XomuTzlsVILc",
    "tags": [
     "header"
    ]
   },
   "source": [
    "## Create NeptuneLogger"
   ]
  },
  {
   "cell_type": "code",
   "execution_count": null,
   "metadata": {
    "id": "82879lQuVfsJ",
    "tags": [
     "code"
    ]
   },
   "outputs": [],
   "source": [
    "from catalyst import dl\n",
    "\n",
    "neptune_logger = dl.NeptuneLogger(\n",
    "    api_token=\"ANONYMOUS\",\n",
    "    project=\"common/catalyst-integration\",\n",
    "    tags=[\"notebook-example\", \"quickstart\"],\n",
    ")"
   ]
  },
  {
   "cell_type": "markdown",
   "metadata": {
    "tags": [
     "comment"
    ]
   },
   "source": [
    "Link above is a link to the run. Click on it, and leave the run tab open - you will get back to it when you start model training.\n",
    "\n",
    "Few explanations:\n",
    "1. You need to pass project to the `NeptuneLogger()`, to inform it where to log metadata. Project is a string of this form: `my_workspace/my_project`.\n",
    "1. There are more parameters to customize logger behavior, check [Catalyst docs](https://catalyst-team.github.io/catalyst/api/loggers.html#neptunelogger) for more details.\n",
    "\n",
    "----\n",
    "\n",
    "**Note**\n",
    "\n",
    "Instead of logging data to the public project `\"common/catalyst-integration\"` as an anonymous user `\"neptuner\"` you can log it to your own project.\n",
    "\n",
    "To do that:\n",
    "1. Follow the [installation and setup](https://docs.neptune.ai/getting-started/installation) that will show you how to use individual, private api_token.\n",
    "1. Create new [private project](https://docs.neptune.ai/administration/workspace-project-and-user-management/projects).\n",
    "1. Pass this project name here, instead of `\"common/catalyst-integration\"`.\n",
    "\n",
    "At this point you will be ready to log Catalyst runs to your own project :)"
   ]
  },
  {
   "cell_type": "markdown",
   "metadata": {
    "id": "XomuTzlsVILc",
    "tags": [
     "header"
    ]
   },
   "source": [
    "## Pass neptune_logger to the train method of the Runner"
   ]
  },
  {
   "cell_type": "code",
   "execution_count": null,
   "metadata": {
    "tags": []
   },
   "outputs": [],
   "source": [
    "my_runner.train(\n",
    "    loggers={\"neptune\": neptune_logger},\n",
    "    hparams=my_hparams,\n",
    "    model=model,\n",
    "    criterion=criterion,\n",
    "    optimizer=optimizer,\n",
    "    loaders=loaders,\n",
    "    num_epochs=10,\n",
    "    callbacks=[\n",
    "        dl.AccuracyCallback(input_key=\"logits\", target_key=\"targets\", topk_args=[1]),\n",
    "        dl.CheckpointCallback(\n",
    "            logdir=\"checkpoints\",\n",
    "            loader_key=\"validation\",\n",
    "            metric_key=\"loss\",\n",
    "            minimize=True,\n",
    "        ),\n",
    "    ],\n",
    "    valid_loader=\"validation\",\n",
    "    valid_metric=\"loss\",\n",
    "    minimize_valid_metric=True,\n",
    ")"
   ]
  },
  {
   "cell_type": "markdown",
   "metadata": {
    "tags": [
     "comment"
    ]
   },
   "source": [
    "Few explanations:\n",
    "\n",
    "1. `train` method executes model training, so here you start logging metadata to Neptune.\n",
    "1. `neptune_logger` is passed to the `loggers` parameter.\n",
    "1. Notice that `my_hparams` are also passed, to that they can be logged as well."
   ]
  },
  {
   "cell_type": "markdown",
   "metadata": {
    "id": "XomuTzlsVILc",
    "tags": [
     "header"
    ]
   },
   "source": [
    "## Log best model"
   ]
  },
  {
   "cell_type": "markdown",
   "metadata": {
    "tags": [
     "comment"
    ]
   },
   "source": [
    "After training, use `log_artifact()` method to log model checkpoint."
   ]
  },
  {
   "cell_type": "code",
   "execution_count": null,
   "metadata": {
    "id": "82879lQuVfsJ",
    "tags": [
     "code"
    ]
   },
   "outputs": [],
   "source": [
    "my_runner.log_artifact(\n",
    "    path_to_artifact=\"./checkpoints/best.pth\", tag=\"best_model\", scope=\"experiment\"\n",
    ")"
   ]
  },
  {
   "cell_type": "markdown",
   "metadata": {},
   "source": [
    "## Stop logging\n",
    "\n",
    "<font color=red>**Warning:**</font><br>\n",
    "Once you are done logging, you should stop the run using the `stop()` method, which is method of the run object. Run object itself is part of the `neptune_logger`.\n",
    "This is needed only while logging from a notebook environment. While logging through a script, Neptune automatically stops tracking once the script has completed execution."
   ]
  },
  {
   "cell_type": "code",
   "execution_count": null,
   "metadata": {
    "jupyter": {
     "outputs_hidden": false
    },
    "pycharm": {
     "name": "#%%\n"
    }
   },
   "outputs": [],
   "source": [
    "neptune_logger.run.stop()"
   ]
  },
  {
   "cell_type": "markdown",
   "metadata": {},
   "source": [
    "## Analyze logged metadata in the Neptune UI"
   ]
  },
  {
   "cell_type": "markdown",
   "metadata": {
    "tags": [
     "comment"
    ]
   },
   "source": [
    "Go to the run link and explore metadata (metrics, hparams, model checkpoint) that were logged to the run in Neptune.\n",
    "\n",
    "Link should look like this: https://app.neptune.ai/common/catalyst-integration/e/CATALYST-1486"
   ]
  }
 ],
 "metadata": {
  "colab": {
   "collapsed_sections": [],
   "name": "Neptune-Catalyst.ipynb",
   "private_outputs": true,
   "provenance": [],
   "toc_visible": true
  },
  "kernelspec": {
   "display_name": "Python (neptune)",
   "language": "python",
   "name": "neptune"
  },
  "language_info": {
   "codemirror_mode": {
    "name": "ipython",
    "version": 3
   },
   "file_extension": ".py",
   "mimetype": "text/x-python",
   "name": "python",
   "nbconvert_exporter": "python",
   "pygments_lexer": "ipython3",
   "version": "3.8.5"
  }
 },
 "nbformat": 4,
 "nbformat_minor": 4
}
