{
 "cells": [
  {
   "cell_type": "markdown",
   "metadata": {},
   "source": [
    "# Quantization with huggingface, onnx and catalyst"
   ]
  },
  {
   "cell_type": "code",
   "execution_count": null,
   "metadata": {},
   "outputs": [],
   "source": [
    "!pip install onnx onnxruntime transformers datasets"
   ]
  },
  {
   "cell_type": "code",
   "execution_count": null,
   "metadata": {},
   "outputs": [],
   "source": [
    "import os\n",
    "\n",
    "import torch\n",
    "\n",
    "from transformers import BertForSequenceClassification, AutoTokenizer\n",
    "import datasets\n",
    "from datasets import load_dataset, load_metric\n",
    "\n",
    "from catalyst.utils import (\n",
    "    quantize_model, \n",
    "    quantize_onnx_model, \n",
    "    convert_to_onnx\n",
    ")\n",
    "from catalyst.metrics import ICallbackLoaderMetric\n",
    "from catalyst.runners import Runner"
   ]
  },
  {
   "cell_type": "markdown",
   "metadata": {},
   "source": [
    "### Hyperparams"
   ]
  },
  {
   "cell_type": "code",
   "execution_count": null,
   "metadata": {},
   "outputs": [],
   "source": [
    "seed = 0xDEAD\n",
    "task = \"rte\"\n",
    "model_name = \"google/bert_uncased_L-4_H-512_A-8\"\n",
    "batch_size = 32"
   ]
  },
  {
   "cell_type": "markdown",
   "metadata": {},
   "source": [
    "## Data\n",
    "\n",
    "some words about glue ..."
   ]
  },
  {
   "cell_type": "code",
   "execution_count": null,
   "metadata": {},
   "outputs": [],
   "source": [
    "task_to_keys = {\n",
    "    \"cola\": (\"sentence\", None),\n",
    "    \"mnli\": (\"premise\", \"hypothesis\"),\n",
    "    \"mrpc\": (\"sentence1\", \"sentence2\"),\n",
    "    \"qnli\": (\"question\", \"sentence\"),\n",
    "    \"qqp\": (\"question1\", \"question2\"),\n",
    "    \"rte\": (\"sentence1\", \"sentence2\"),\n",
    "    \"sst2\": (\"sentence\", None),\n",
    "    \"stsb\": (\"sentence1\", \"sentence2\"),\n",
    "    \"wnli\": (\"sentence1\", \"sentence2\"),\n",
    "}\n",
    "\n",
    "\n",
    "\n",
    "def preprocess_dataset(dataset, tokenizer, seed, task):\n",
    "    def get_input_ids(examples, task):\n",
    "        if task_to_keys[task][1] is None:\n",
    "            return (examples[task_to_keys[task][0]],)\n",
    "        return examples[task_to_keys[task][0]], examples[task_to_keys[task][1]]\n",
    "\n",
    "    encoded_dataset = dataset.map(\n",
    "        lambda examples: tokenizer(\n",
    "            *get_input_ids(examples, task),\n",
    "            max_length=128,\n",
    "            truncation=True,\n",
    "            padding=\"max_length\",\n",
    "        ),\n",
    "        batched=True,\n",
    "    )\n",
    "    encoded_dataset = encoded_dataset.map(lambda x: {\"labels\": x[\"label\"]})\n",
    "    encoded_dataset.set_format(\n",
    "        type=\"torch\", columns=[\"input_ids\", \"attention_mask\", \"labels\"]\n",
    "    )\n",
    "\n",
    "    return encoded_dataset.shuffle(seed=seed)"
   ]
  },
  {
   "cell_type": "code",
   "execution_count": null,
   "metadata": {},
   "outputs": [],
   "source": [
    "is_regression = task == \"sst2\"\n",
    "\n",
    "tokenizer = AutoTokenizer.from_pretrained(model_name)\n",
    "\n",
    "datasets = load_dataset(\"glue\", task)\n",
    "for k, v in datasets.items():\n",
    "    datasets[k] = preprocess_dataset(v, tokenizer, seed, task=task)\n",
    "    \n",
    "loaders = {}\n",
    "for key, dataset in datasets.items():\n",
    "    loaders[key] = torch.utils.data.DataLoader(\n",
    "        dataset, \n",
    "        batch_size=batch_size,\n",
    "        shuffle=key==\"train\",\n",
    "    )\n",
    "    \n",
    "if not is_regression:\n",
    "    label_list = datasets[\"train\"].features[\"label\"].names\n",
    "    num_labels = len(label_list)\n",
    "else:\n",
    "    num_labels = 1"
   ]
  },
  {
   "cell_type": "markdown",
   "metadata": {},
   "source": [
    "## Metric\n",
    "\n",
    "some words about new metrics..."
   ]
  },
  {
   "cell_type": "code",
   "execution_count": null,
   "metadata": {},
   "outputs": [],
   "source": [
    "class HFMetricCallback(ICallbackLoaderMetric):\n",
    "    def __init__(\n",
    "        self,\n",
    "        metric,\n",
    "        regression: bool = False,\n",
    "        compute_on_call: bool = True, \n",
    "        prefix: str = None, \n",
    "        suffix: str = None,\n",
    "    ):\n",
    "        super().__init__(\n",
    "            compute_on_call=compute_on_call,\n",
    "            prefix=prefix,\n",
    "            suffix=suffix,\n",
    "        )\n",
    "        \n",
    "        self.metric = metric\n",
    "        self.regression = regression\n",
    "    \n",
    "    def reset(self):\n",
    "        self.metric.compute()\n",
    "        \n",
    "    def update(self, logits, labels):\n",
    "        predictions = logits if self.regression else logits.argmax(-1)\n",
    "        self.metric.add_batch(predictions=predictions, references=labels)\n",
    "        \n",
    "    def compute_key_value(self):\n",
    "        return self.metric.compute()\n",
    "    \n",
    "    def compute(self):\n",
    "        return self.metric.compute()"
   ]
  },
  {
   "cell_type": "code",
   "execution_count": null,
   "metadata": {},
   "outputs": [],
   "source": [
    "metric_fn = load_metric(\"glue\", task, keep_in_memory=True)\n",
    "\n",
    "catalyst_metric = HFMetricCallback(metric=metric_fn, regression=is_regression)"
   ]
  },
  {
   "cell_type": "markdown",
   "metadata": {},
   "source": [
    "## Model\n",
    "\n",
    "some words about BERT"
   ]
  },
  {
   "cell_type": "code",
   "execution_count": null,
   "metadata": {},
   "outputs": [],
   "source": [
    "model = BertForSequenceClassification.from_pretrained(\n",
    "    model_name,\n",
    "    num_labels=num_labels,\n",
    ")"
   ]
  },
  {
   "cell_type": "markdown",
   "metadata": {},
   "source": [
    "## Runner"
   ]
  },
  {
   "cell_type": "code",
   "execution_count": null,
   "metadata": {},
   "outputs": [],
   "source": [
    "class GlueRunner(Runner):\n",
    "    \n",
    "    def handle_batch(self, batch):\n",
    "        \n",
    "        outputs = model(**batch)\n",
    "\n",
    "        loss = outputs[0]\n",
    "        logits = outputs[1]\n",
    "        runner.batch_output = {\"loss\": loss, \"logits\": logits}"
   ]
  },
  {
   "cell_type": "code",
   "execution_count": null,
   "metadata": {},
   "outputs": [],
   "source": [
    "optimizer = torch.optim.Adam(model.parameters(), lr=5e-5)\n",
    "runner = GlueRunner()"
   ]
  },
  {
   "cell_type": "markdown",
   "metadata": {},
   "source": [
    "## Training"
   ]
  },
  {
   "cell_type": "code",
   "execution_count": null,
   "metadata": {},
   "outputs": [],
   "source": [
    "runner.train(\n",
    "    model=model,\n",
    "    optimizer=optimizer,\n",
    "    main_metric=\"accuracy\",\n",
    "    loaders=loaders,\n",
    "    num_epochs=5,\n",
    "    verbose=True\n",
    ")"
   ]
  },
  {
   "cell_type": "markdown",
   "metadata": {},
   "source": [
    "## Quantization\n",
    "\n",
    "### PyTorch"
   ]
  },
  {
   "cell_type": "code",
   "execution_count": null,
   "metadata": {},
   "outputs": [],
   "source": [
    "torch.save(model.state_dict(), \"model.pth\")\n",
    "\n",
    "print(f\"Model size: {os.path.getsize('model.pth')/2**20:.2f}\")\n",
    "q_model = quantize_model(model)\n",
    "torch.save(q_model.state_dict(), \"quantized_model.pth\")\n",
    "print(f\"Quantized model size: {os.path.getsize('quantized_model.pth')/2**20:.2f}\")"
   ]
  },
  {
   "cell_type": "markdown",
   "metadata": {},
   "source": [
    "### ONNX"
   ]
  },
  {
   "cell_type": "code",
   "execution_count": null,
   "metadata": {},
   "outputs": [],
   "source": [
    "inputs = {\n",
    "    \"input_ids\": torch.ones(1, 128, dtype=torch.long),\n",
    "    \"attention_mask\": torch.ones(1, 128, dtype=torch.long)\n",
    "}\n",
    "\n",
    "symbolic_names = {0: 'batch_size', 1: 'max_seq_len'}\n",
    "convert_to_onnx(\n",
    "    model=model,\n",
    "    inp_shape=(\n",
    "        inputs[\"input_ids\"],\n",
    "        inputs[\"attention_mask\"]\n",
    "    ),\n",
    "    file=\"model.onnx\",\n",
    "    opset_version=11,\n",
    "    do_constant_folding=True,\n",
    "    input_names=[\"input_ids\", \"attention_mask\"],\n",
    "    output_names=[\"output\"],\n",
    "    dynamic_axes={\n",
    "        \"input_ids\": symbolic_names,\n",
    "        \"attention_mask\": symbolic_names\n",
    "    }\n",
    ")"
   ]
  },
  {
   "cell_type": "code",
   "execution_count": null,
   "metadata": {},
   "outputs": [],
   "source": [
    "quantize_onnx_model(\"model.onnx\", \"quantized_model.onnx\", verbose=True)"
   ]
  },
  {
   "cell_type": "markdown",
   "metadata": {},
   "source": [
    "## Inference and results"
   ]
  },
  {
   "cell_type": "code",
   "execution_count": null,
   "metadata": {},
   "outputs": [],
   "source": []
  }
 ],
 "metadata": {
  "hide_input": false,
  "kernelspec": {
   "display_name": "Python 3",
   "language": "python",
   "name": "python3"
  },
  "language_info": {
   "codemirror_mode": {
    "name": "ipython",
    "version": 3
   },
   "file_extension": ".py",
   "mimetype": "text/x-python",
   "name": "python",
   "nbconvert_exporter": "python",
   "pygments_lexer": "ipython3",
   "version": "3.7.6"
  },
  "latex_envs": {
   "LaTeX_envs_menu_present": true,
   "autoclose": false,
   "autocomplete": true,
   "bibliofile": "biblio.bib",
   "cite_by": "apalike",
   "current_citInitial": 1,
   "eqLabelWithNumbers": true,
   "eqNumInitial": 1,
   "hotkeys": {
    "equation": "Ctrl-E",
    "itemize": "Ctrl-I"
   },
   "labels_anchors": false,
   "latex_user_defs": false,
   "report_style_numbering": false,
   "user_envs_cfg": false
  },
  "varInspector": {
   "cols": {
    "lenName": 16,
    "lenType": 16,
    "lenVar": 40
   },
   "kernels_config": {
    "python": {
     "delete_cmd_postfix": "",
     "delete_cmd_prefix": "del ",
     "library": "var_list.py",
     "varRefreshCmd": "print(var_dic_list())"
    },
    "r": {
     "delete_cmd_postfix": ") ",
     "delete_cmd_prefix": "rm(",
     "library": "var_list.r",
     "varRefreshCmd": "cat(var_dic_list()) "
    }
   },
   "types_to_exclude": [
    "module",
    "function",
    "builtin_function_or_method",
    "instance",
    "_Feature"
   ],
   "window_display": false
  }
 },
 "nbformat": 4,
 "nbformat_minor": 1
}
