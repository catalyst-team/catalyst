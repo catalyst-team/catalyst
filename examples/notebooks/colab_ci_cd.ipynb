{
  "nbformat": 4,
  "nbformat_minor": 0,
  "metadata": {
    "colab": {
      "name": "Catalyst: colab minimal CI/CD",
      "provenance": [],
      "collapsed_sections": []
    },
    "kernelspec": {
      "name": "python3",
      "display_name": "Python 3"
    },
    "language_info": {
      "name": "python"
    },
    "accelerator": "GPU"
  },
  "cells": [
    {
      "cell_type": "markdown",
      "metadata": {
        "id": "7um2l1WUk0nn"
      },
      "source": [
        "<p><img alt=\"Colaboratory logo\" height=\"45px\" src=\"/img/colab_favicon.ico\" align=\"left\" hspace=\"10px\" vspace=\"0px\"></p>\n",
        "\n",
        "<h1>What is colab minimal CI/CD?</h1>\n",
        "\n",
        "Colaboratory allows you to write and execute Python in your browser, with \n",
        "- Zero configuration required\n",
        "- Free access to GPUs\n",
        "- Easy sharing\n",
        "\n",
        "In this way, it's a perfect tool to test and share your work on an open-source Deep Learning framework. Why shouldn't we use it?\n",
        "\n",
        "Features:\n",
        "- clones the code from Github (you could select your branch of interest if you would like to)\n",
        "- installs the requirements (minimal requirements also supported)\n",
        "- installs Nvidia Apex if you would like to test it too\n",
        "- checks codestyle and docs\n",
        "- runs tests\n",
        "- checks framework integrations"
      ]
    },
    {
      "cell_type": "markdown",
      "metadata": {
        "id": "HVl8c7w9Ze3p"
      },
      "source": [
        "# Code"
      ]
    },
    {
      "cell_type": "code",
      "metadata": {
        "id": "va2uPF3hC834"
      },
      "source": [
        "! export GIT_REPO=\"catalyst-team/catalyst\" && git clone https://github.com/${GIT_REPO}"
      ],
      "execution_count": null,
      "outputs": []
    },
    {
      "cell_type": "markdown",
      "metadata": {
        "id": "_pgjY2_BZ1XP"
      },
      "source": [
        "## Branch"
      ]
    },
    {
      "cell_type": "code",
      "metadata": {
        "id": "7xFVVSq-VZL7"
      },
      "source": [
        "# optional, branch\n",
        "! export BRANCH=\"v2103-minimal-fix\" && cd catalyst && git checkout -b $BRANCH origin/$BRANCH  && git pull origin $BRANCH"
      ],
      "execution_count": null,
      "outputs": []
    },
    {
      "cell_type": "markdown",
      "metadata": {
        "id": "zdP0lUOkZhQF"
      },
      "source": [
        "# Requirements"
      ]
    },
    {
      "cell_type": "code",
      "metadata": {
        "id": "l6w6albQZ9HY"
      },
      "source": [
        "# optional, \"minimal\" requirements (otherwise they are \"latest\")\n",
        "! python -c \"req = open('./catalyst/requirements/requirements.txt').read().replace('>', '=') ; open('./catalyst/requirements/requirements.txt', 'w').write(req)\"\n",
        "! python -c \"req = open('./catalyst/requirements/requirements-cv.txt').read().replace('>', '=') ; open('./catalyst/requirements/requirements-cv.txt', 'w').write(req)\"\n",
        "! python -c \"req = open('./catalyst/requirements/requirements-ml.txt').read().replace('>', '=') ; open('./catalyst/requirements/requirements-ml.txt', 'w').write(req)\"\n",
        "! python -c \"req = open('./catalyst/requirements/requirements-optuna.txt').read().replace('>', '=') ; open('./catalyst/requirements/requirements-optuna.txt', 'w').write(req)\""
      ],
      "execution_count": null,
      "outputs": []
    },
    {
      "cell_type": "code",
      "metadata": {
        "id": "pOEZDcoJC_Qp"
      },
      "source": [
        "# {!} may require runtime restart\n",
        "! pip install \\\n",
        "  -r ./catalyst/requirements/requirements.txt \\\n",
        "  -r ./catalyst/requirements/requirements-cv.txt \\\n",
        "  -r ./catalyst/requirements/requirements-dev.txt \\\n",
        "  -r ./catalyst/requirements/requirements-hydra.txt \\\n",
        "  -r ./catalyst/requirements/requirements-ml.txt \\\n",
        "  -r ./catalyst/requirements/requirements-mlflow.txt \\\n",
        "  -r ./catalyst/requirements/requirements-onnx-gpu.txt \\\n",
        "  -r ./catalyst/requirements/requirements-optuna.txt \\\n",
        "  -r ./catalyst/requirements/requirements-profiler.txt \\"
      ],
      "execution_count": null,
      "outputs": []
    },
    {
      "cell_type": "markdown",
      "metadata": {
        "id": "I1mxJv-zZlLH"
      },
      "source": [
        "## Apex"
      ]
    },
    {
      "cell_type": "code",
      "metadata": {
        "id": "B0VoFRIr5LYb"
      },
      "source": [
        "# optional, nvidia apex\n",
        "! git clone https://github.com/NVIDIA/apex\n",
        "! cd apex &&  python setup.py install"
      ],
      "execution_count": null,
      "outputs": []
    },
    {
      "cell_type": "markdown",
      "metadata": {
        "id": "Bk3YHg_nZoGo"
      },
      "source": [
        "# Codestyle"
      ]
    },
    {
      "cell_type": "code",
      "metadata": {
        "id": "otIYa0HrDE0l"
      },
      "source": [
        "! cd catalyst && catalyst-make-codestyle && catalyst-check-codestyle > codestyle.txt"
      ],
      "execution_count": null,
      "outputs": []
    },
    {
      "cell_type": "code",
      "metadata": {
        "id": "bAJmVx__DFYC"
      },
      "source": [
        "! cat ./catalyst/codestyle.txt"
      ],
      "execution_count": null,
      "outputs": []
    },
    {
      "cell_type": "markdown",
      "metadata": {
        "id": "pX8dxJCCZr9p"
      },
      "source": [
        "# Docs"
      ]
    },
    {
      "cell_type": "code",
      "metadata": {
        "id": "_GWVG-IU4O69"
      },
      "source": [
        "! cd catalyst && make check-docs"
      ],
      "execution_count": null,
      "outputs": []
    },
    {
      "cell_type": "markdown",
      "metadata": {
        "id": "1QMCOj0yZt2h"
      },
      "source": [
        "# Tests"
      ]
    },
    {
      "cell_type": "code",
      "metadata": {
        "id": "lwSvMPYhGgMn"
      },
      "source": [
        "! cd catalyst && CATALYST_COMPUTE_PER_CLASS_METRICS=\"1\" OMP_NUM_THREADS=\"1\" MKL_NUM_THREADS=\"1\" pytest ."
      ],
      "execution_count": null,
      "outputs": []
    },
    {
      "cell_type": "code",
      "source": [
        "! cd catalyst && BENCHMARK_REQUIRED=\"1\" pytest ./tests/benchmarks"
      ],
      "metadata": {
        "id": "-zETFyoOZNV5"
      },
      "execution_count": null,
      "outputs": []
    },
    {
      "cell_type": "markdown",
      "metadata": {
        "id": "uVJ_azQua5hq"
      },
      "source": [
        "# Integrations"
      ]
    },
    {
      "cell_type": "code",
      "metadata": {
        "id": "JgM1OUaBWNkg"
      },
      "source": [
        "! cd catalyst && pip install -e ."
      ],
      "execution_count": null,
      "outputs": []
    },
    {
      "cell_type": "code",
      "metadata": {
        "id": "SVHLLBg7fN6w"
      },
      "source": [
        "! cd catalyst && bash bin/workflows/check_projector.sh"
      ],
      "execution_count": null,
      "outputs": []
    },
    {
      "cell_type": "code",
      "metadata": {
        "id": "yKDA4WqLe-OG"
      },
      "source": [
        "! cd catalyst && bash bin/workflows/check_settings.sh"
      ],
      "execution_count": null,
      "outputs": []
    },
    {
      "cell_type": "markdown",
      "metadata": {
        "id": "wrKbPBunmXH6"
      },
      "source": [
        "---"
      ]
    },
    {
      "cell_type": "markdown",
      "metadata": {
        "id": "d7L-_rYemY3o"
      },
      "source": [
        "# Extra"
      ]
    },
    {
      "cell_type": "code",
      "metadata": {
        "id": "mEzzyFWOh0PL"
      },
      "source": [
        ""
      ],
      "execution_count": null,
      "outputs": []
    }
  ]
}