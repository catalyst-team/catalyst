{
  "nbformat": 4,
  "nbformat_minor": 0,
  "metadata": {
    "colab": {
      "name": "Catalyst: colab minimal CI/CD",
      "provenance": [],
      "collapsed_sections": [],
      "toc_visible": true
    },
    "kernelspec": {
      "name": "python3",
      "display_name": "Python 3"
    },
    "language_info": {
      "name": "python"
    },
    "accelerator": "GPU"
  },
  "cells": [
    {
      "cell_type": "markdown",
      "metadata": {
        "id": "7um2l1WUk0nn"
      },
      "source": [
        "<p><img alt=\"Colaboratory logo\" height=\"45px\" src=\"/img/colab_favicon.ico\" align=\"left\" hspace=\"10px\" vspace=\"0px\"></p>\n",
        "\n",
        "<h1>What is colab minimal CI/CD?</h1>\n",
        "\n",
        "Colaboratory allows you to write and execute Python in your browser, with \n",
        "- Zero configuration required\n",
        "- Free access to GPUs\n",
        "- Easy sharing\n",
        "\n",
        "In this way, it's a perfect tool to test and share your work on an open-source Deep Learning framework. Why shouldn't we use it?\n",
        "\n",
        "Features:\n",
        "- clones the code from Github (you could select your branch of interest if you would like to)\n",
        "- installs the requirements (minimal requirements also supported)\n",
        "- installs Nvidia Apex if you would like to test it too\n",
        "- checks codestyle and docs\n",
        "- runs tests\n",
        "- checks framework integrations"
      ]
    },
    {
      "cell_type": "markdown",
      "metadata": {
        "id": "HVl8c7w9Ze3p"
      },
      "source": [
        "# Code"
      ]
    },
    {
      "cell_type": "code",
      "metadata": {
        "id": "va2uPF3hC834",
        "colab": {
          "base_uri": "https://localhost:8080/"
        },
        "outputId": "092bb97b-9d7e-427c-b0b0-cccae3deb65a"
      },
      "source": [
        "! git clone https://github.com/catalyst-team/catalyst"
      ],
      "execution_count": null,
      "outputs": [
        {
          "output_type": "stream",
          "text": [
            "remote: Total 51407 (delta 2966), reused 3691 (delta 2861), pack-reused 47522\u001b[K\n",
            "Receiving objects: 100% (51407/51407), 41.49 MiB | 3.77 MiB/s, done.\n",
            "Resolving deltas: 100% (38574/38574), done.\n"
          ],
          "name": "stdout"
        }
      ]
    },
    {
      "cell_type": "markdown",
      "metadata": {
        "id": "_pgjY2_BZ1XP"
      },
      "source": [
        "## Branch"
      ]
    },
    {
      "cell_type": "code",
      "metadata": {
        "id": "7xFVVSq-VZL7"
      },
      "source": [
        "# optional, branch\n",
        "! export BRANCH=\"v2103-minimal-fix\" && cd catalyst && git checkout -b $BRANCH origin/$BRANCH  && git pull origin $BRANCH"
      ],
      "execution_count": null,
      "outputs": []
    },
    {
      "cell_type": "markdown",
      "metadata": {
        "id": "zdP0lUOkZhQF"
      },
      "source": [
        "# Requirements"
      ]
    },
    {
      "cell_type": "code",
      "metadata": {
        "id": "l6w6albQZ9HY"
      },
      "source": [
        "# optional, \"minimal\" requirements (otherwise they are \"latest\")\n",
        "! python -c \"req = open('./catalyst/requirements/requirements.txt').read().replace('>', '=') ; open('./catalyst/requirements/requirements.txt', 'w').write(req)\"\n",
        "! python -c \"req = open('./catalyst/requirements/requirements-cv.txt').read().replace('>', '=') ; open('./catalyst/requirements/requirements-cv.txt', 'w').write(req)\"\n",
        "! python -c \"req = open('./catalyst/requirements/requirements-ml.txt').read().replace('>', '=') ; open('./catalyst/requirements/requirements-ml.txt', 'w').write(req)\"\n",
        "! python -c \"req = open('./catalyst/requirements/requirements-hydra.txt').read().replace('>', '=') ; open('./catalyst/requirements/requirements-hydra.txt', 'w').write(req)\"\n",
        "! python -c \"req = open('./catalyst/requirements/requirements-optuna.txt').read().replace('>', '=') ; open('./catalyst/requirements/requirements-optuna.txt', 'w').write(req)\""
      ],
      "execution_count": null,
      "outputs": []
    },
    {
      "cell_type": "code",
      "metadata": {
        "id": "pOEZDcoJC_Qp"
      },
      "source": [
        "# {!} may require runtime restart\n",
        "! pip install \\\n",
        "  -r ./catalyst/requirements/requirements.txt \\\n",
        "  -r ./catalyst/requirements/requirements-cv.txt \\\n",
        "  -r ./catalyst/requirements/requirements-dev.txt \\\n",
        "  -r ./catalyst/requirements/requirements-hydra.txt \\\n",
        "  -r ./catalyst/requirements/requirements-ml.txt \\\n",
        "  -r ./catalyst/requirements/requirements-mlflow.txt \\\n",
        "  -r ./catalyst/requirements/requirements-onnx-gpu.txt \\\n",
        "  -r ./catalyst/requirements/requirements-optuna.txt \\"
      ],
      "execution_count": null,
      "outputs": []
    },
    {
      "cell_type": "markdown",
      "metadata": {
        "id": "I1mxJv-zZlLH"
      },
      "source": [
        "## Apex"
      ]
    },
    {
      "cell_type": "code",
      "metadata": {
        "id": "B0VoFRIr5LYb"
      },
      "source": [
        "# optional, nvidia apex\n",
        "! git clone https://github.com/NVIDIA/apex\n",
        "! cd apex &&  python setup.py install"
      ],
      "execution_count": null,
      "outputs": []
    },
    {
      "cell_type": "markdown",
      "metadata": {
        "id": "Bk3YHg_nZoGo"
      },
      "source": [
        "# Codestyle"
      ]
    },
    {
      "cell_type": "code",
      "metadata": {
        "id": "otIYa0HrDE0l"
      },
      "source": [
        "! cd catalyst && catalyst-make-codestyle && catalyst-check-codestyle > codestyle.txt"
      ],
      "execution_count": null,
      "outputs": []
    },
    {
      "cell_type": "code",
      "metadata": {
        "id": "bAJmVx__DFYC"
      },
      "source": [
        "! cat ./catalyst/codestyle.txt"
      ],
      "execution_count": null,
      "outputs": []
    },
    {
      "cell_type": "markdown",
      "metadata": {
        "id": "pX8dxJCCZr9p"
      },
      "source": [
        "# Docs"
      ]
    },
    {
      "cell_type": "code",
      "metadata": {
        "id": "_GWVG-IU4O69"
      },
      "source": [
        "! cd catalyst && make check-docs"
      ],
      "execution_count": null,
      "outputs": []
    },
    {
      "cell_type": "markdown",
      "metadata": {
        "id": "1QMCOj0yZt2h"
      },
      "source": [
        "# Tests"
      ]
    },
    {
      "cell_type": "code",
      "metadata": {
        "id": "lwSvMPYhGgMn"
      },
      "source": [
        "! cd catalyst && pytest ."
      ],
      "execution_count": null,
      "outputs": []
    },
    {
      "cell_type": "markdown",
      "metadata": {
        "id": "uVJ_azQua5hq"
      },
      "source": [
        "# Integrations"
      ]
    },
    {
      "cell_type": "code",
      "metadata": {
        "id": "JgM1OUaBWNkg"
      },
      "source": [
        "! cd catalyst && pip install -e ."
      ],
      "execution_count": null,
      "outputs": []
    },
    {
      "cell_type": "code",
      "metadata": {
        "id": "SVHLLBg7fN6w"
      },
      "source": [
        "! cd catalyst && bash bin/workflows/check_projector.sh"
      ],
      "execution_count": null,
      "outputs": []
    },
    {
      "cell_type": "code",
      "metadata": {
        "id": "yKDA4WqLe-OG"
      },
      "source": [
        "! cd catalyst && bash bin/workflows/check_settings.sh"
      ],
      "execution_count": null,
      "outputs": []
    },
    {
      "cell_type": "markdown",
      "metadata": {
        "id": "wrKbPBunmXH6"
      },
      "source": [
        "---"
      ]
    },
    {
      "cell_type": "markdown",
      "metadata": {
        "id": "d7L-_rYemY3o"
      },
      "source": [
        "# Extra"
      ]
    },
    {
      "cell_type": "code",
      "metadata": {
        "id": "mEzzyFWOh0PL"
      },
      "source": [
        ""
      ],
      "execution_count": null,
      "outputs": []
    }
  ]
}