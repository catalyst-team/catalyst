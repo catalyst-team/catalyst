{
  "cells": [
    {
      "cell_type": "markdown",
      "metadata": {
        "id": "7um2l1WUk0nn"
      },
      "source": [
        "<p><img alt=\"Colaboratory logo\" height=\"45px\" src=\"/img/colab_favicon.ico\" align=\"left\" hspace=\"10px\" vspace=\"0px\"></p>\n",
        "\n",
        "<h1>What is colab minimal CI/CD?</h1>\n",
        "\n",
        "Colaboratory allows you to write and execute Python in your browser, with \n",
        "- Zero configuration required\n",
        "- Free access to GPUs\n",
        "- Easy sharing\n",
        "\n",
        "In this way, it's a perfect tool to test and share your work on an open-source Deep Learning framework. Why shouldn't we use it?\n",
        "\n",
        "Features:\n",
        "- clones the code from Github (you could select your branch of interest if you would like to)\n",
        "- installs the requirements (minimal requirements also supported)\n",
        "- installs Nvidia Apex if you would like to test it too\n",
        "- checks codestyle and docs\n",
        "- runs tests\n",
        "- checks framework integrations"
      ]
    },
    {
      "cell_type": "markdown",
      "metadata": {
        "id": "HVl8c7w9Ze3p"
      },
      "source": [
        "# Code"
      ]
    },
    {
      "cell_type": "code",
      "execution_count": null,
      "metadata": {
        "id": "va2uPF3hC834"
      },
      "outputs": [],
      "source": [
        "! export GIT_REPO=\"catalyst-team/catalyst\" && git clone https://github.com/${GIT_REPO}"
      ]
    },
    {
      "cell_type": "markdown",
      "metadata": {
        "id": "_pgjY2_BZ1XP"
      },
      "source": [
        "## Branch"
      ]
    },
    {
      "cell_type": "code",
      "execution_count": null,
      "metadata": {
        "id": "7xFVVSq-VZL7"
      },
      "outputs": [],
      "source": [
        "# optional, branch\n",
        "! export BRANCH=\"dev\" && cd catalyst && git checkout -b $BRANCH origin/$BRANCH  && git pull origin $BRANCH"
      ]
    },
    {
      "cell_type": "markdown",
      "metadata": {
        "id": "zdP0lUOkZhQF"
      },
      "source": [
        "# Requirements"
      ]
    },
    {
      "cell_type": "code",
      "execution_count": null,
      "metadata": {
        "id": "l6w6albQZ9HY"
      },
      "outputs": [],
      "source": [
        "# optional, \"minimal\" requirements (otherwise they are \"latest\")\n",
        "! python -c \"req = open('./requirements/requirements.txt').read().replace('>', '=') ; open('./requirements/requirements.txt', 'w').write(req)\"\n",
        "! python -c \"req = open('./requirements/requirements-cv.txt').read().replace('>', '=') ; open('./requirements/requirements-cv.txt', 'w').write(req)\"\n",
        "! python -c \"req = open('./requirements/requirements-ml.txt').read().replace('>', '=') ; open('./requirements/requirements-ml.txt', 'w').write(req)\"\n",
        "! python -c \"req = open('./requirements/requirements-optuna.txt').read().replace('>', '=') ; open('./requirements/requirements-optuna.txt', 'w').write(req)\"\n",
        "! python -c \"req = open('./requirements/requirements-comet.txt').read().replace('>', '=') ; open('./requirements/requirements-comet.txt', 'w').write(req)\"\n",
        "! python -c \"req = open('./requirements/requirements-mlflow.txt').read().replace('>', '=') ; open('./requirements/requirements-mlflow.txt', 'w').write(req)\"\n",
        "! python -c \"req = open('./requirements/requirements-neptune.txt').read().replace('>', '=') ; open('./requirements/requirements-neptune.txt', 'w').write(req)\"\n",
        "! python -c \"req = open('./requirements/requirements-wandb.txt').read().replace('>', '=') ; open('./requirements/requirements-wandb.txt', 'w').write(req)\"\n",
        "! python -c \"req = open('./requirements/requirements-profiler.txt').read().replace('>', '=') ; open('./requirements/requirements-profiler.txt', 'w').write(req)\""
      ]
    },
    {
      "cell_type": "code",
      "execution_count": null,
      "metadata": {
        "id": "pOEZDcoJC_Qp"
      },
      "outputs": [],
      "source": [
        "# {!} may require runtime restart\n",
        "! pip install \\\n",
        "  -r ./requirements/requirements.txt \\\n",
        "  -r ./requirements/requirements-dev.txt \\\n",
        "  -r ./requirements/requirements-cv.txt \\\n",
        "  -r ./requirements/requirements-ml.txt \\\n",
        "  -r ./requirements/requirements-optuna.txt \\\n",
        "  -r ./requirements/requirements-comet.txt \\\n",
        "  -r ./requirements/requirements-mlflow.txt \\\n",
        "  -r ./requirements/requirements-neptune.txt \\\n",
        "  -r ./requirements/requirements-wandb.txt \\\n",
        "  -r ./requirements/requirements-profiler.txt"
      ]
    },
    {
      "cell_type": "markdown",
      "metadata": {
        "id": "Bk3YHg_nZoGo"
      },
      "source": [
        "# Codestyle"
      ]
    },
    {
      "cell_type": "code",
      "execution_count": null,
      "metadata": {
        "id": "otIYa0HrDE0l"
      },
      "outputs": [],
      "source": [
        "! cd catalyst && catalyst-make-codestyle && catalyst-check-codestyle > codestyle.txt"
      ]
    },
    {
      "cell_type": "code",
      "execution_count": null,
      "metadata": {
        "id": "bAJmVx__DFYC"
      },
      "outputs": [],
      "source": [
        "! cat ./catalyst/codestyle.txt"
      ]
    },
    {
      "cell_type": "markdown",
      "metadata": {
        "id": "pX8dxJCCZr9p"
      },
      "source": [
        "# Docs"
      ]
    },
    {
      "cell_type": "code",
      "execution_count": null,
      "metadata": {
        "id": "_GWVG-IU4O69"
      },
      "outputs": [],
      "source": [
        "! cd catalyst && make check-docs"
      ]
    },
    {
      "cell_type": "markdown",
      "metadata": {
        "id": "1QMCOj0yZt2h"
      },
      "source": [
        "# Tests"
      ]
    },
    {
      "cell_type": "code",
      "execution_count": null,
      "metadata": {
        "id": "lwSvMPYhGgMn"
      },
      "outputs": [],
      "source": [
        "! cd catalyst && CATALYST_COMPUTE_PER_CLASS_METRICS=\"1\" OMP_NUM_THREADS=\"1\" MKL_NUM_THREADS=\"1\" pytest ."
      ]
    },
    {
      "cell_type": "code",
      "execution_count": null,
      "metadata": {
        "id": "-zETFyoOZNV5"
      },
      "outputs": [],
      "source": [
        "! cd catalyst && BENCHMARK_REQUIRED=\"1\" pytest ./tests/benchmarks"
      ]
    },
    {
      "cell_type": "markdown",
      "metadata": {
        "id": "uVJ_azQua5hq"
      },
      "source": [
        "# Integrations"
      ]
    },
    {
      "cell_type": "markdown",
      "metadata": {},
      "source": []
    },
    {
      "cell_type": "code",
      "execution_count": null,
      "metadata": {
        "id": "JgM1OUaBWNkg"
      },
      "outputs": [],
      "source": [
        "! cd catalyst && pip install -e ."
      ]
    },
    {
      "cell_type": "code",
      "execution_count": null,
      "metadata": {
        "id": "SVHLLBg7fN6w"
      },
      "outputs": [],
      "source": [
        "! cd catalyst && bash bin/workflows/check_projector.sh"
      ]
    },
    {
      "cell_type": "code",
      "execution_count": null,
      "metadata": {
        "id": "yKDA4WqLe-OG"
      },
      "outputs": [],
      "source": [
        "! cd catalyst && bash bin/workflows/check_settings.sh"
      ]
    },
    {
      "cell_type": "markdown",
      "metadata": {
        "id": "wrKbPBunmXH6"
      },
      "source": [
        "---"
      ]
    },
    {
      "cell_type": "markdown",
      "metadata": {
        "id": "d7L-_rYemY3o"
      },
      "source": [
        "# Extra"
      ]
    },
    {
      "cell_type": "code",
      "execution_count": null,
      "metadata": {
        "id": "mEzzyFWOh0PL"
      },
      "outputs": [],
      "source": []
    }
  ],
  "metadata": {
    "accelerator": "GPU",
    "colab": {
      "collapsed_sections": [],
      "name": "Catalyst: colab minimal CI/CD",
      "provenance": []
    },
    "kernelspec": {
      "display_name": "Python 3",
      "name": "python3"
    },
    "language_info": {
      "name": "python"
    }
  },
  "nbformat": 4,
  "nbformat_minor": 0
}
